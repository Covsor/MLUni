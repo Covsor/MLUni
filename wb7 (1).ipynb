{
 "cells": [
  {
   "cell_type": "markdown",
   "id": "9e24de7d",
   "metadata": {},
   "source": [
    "# 1.1.2(1)"
   ]
  },
  {
   "cell_type": "code",
   "execution_count": 2,
   "id": "70718081",
   "metadata": {},
   "outputs": [
    {
     "name": "stdout",
     "output_type": "stream",
     "text": [
      "Преобразованные входные данные:\n",
      "0.9890130573694068\n",
      "0.8151036049051821\n"
     ]
    }
   ],
   "source": [
    "import numpy as np\n",
    "def sigmoid(x):\n",
    "    return 1 / (1 + np.exp(-x))\n",
    "class Neuron:\n",
    "    def __init__(self, weights, bias):\n",
    "        self.weights = weights\n",
    "        self.bias = bias\n",
    "    def feedforward(self, inputs):\n",
    "        total = np.dot(self.weights, inputs) + self.bias\n",
    "        return sigmoid(total)\n",
    "\n",
    "weights = np.array([0.5, 0.5, 0.5])\n",
    "bias = 0\n",
    "n = Neuron(weights, bias)\n",
    "x = np.array([2, 3, 4])\n",
    "print(f'Преобразованные входные данные:\\n'\n",
    "      f'{n.feedforward(x)}')\n",
    "\n",
    "class OurNeuralNetwork:\n",
    "    def __init__(self):\n",
    "        weights = np.array([0.5, 0.5, 0.5])\n",
    "        bias = 0\n",
    "        #neuron\n",
    "        self.h1 = Neuron(weights, bias)\n",
    "        self.h2 = Neuron(weights, bias)\n",
    "        self.h3 = Neuron(weights, bias)\n",
    "        self.o1 = Neuron(weights, bias)\n",
    "    def feedforward(self, x):\n",
    "        out_h1 = self.h1.feedforward(x)\n",
    "        out_h2 = self.h2.feedforward(x)\n",
    "        out_h3 = self.h2.feedforward(x)\n",
    "        out_o1 = self.o1.feedforward(np.array([out_h1, out_h2, out_h3]))\n",
    "        return out_o1\n",
    "network = OurNeuralNetwork()\n",
    "x = np.array([2, 3, 4])\n",
    "print(network.feedforward(x))\n",
    "\n",
    "# Данные нейросети:\n",
    "# − три входа (𝑥1, 𝑥2, 𝑥3);\n",
    "# − три нейрона в скрытых слоях (ℎ1, ℎ2, ℎ3);\n",
    "# − выход (𝑜1).\n",
    "# Нейроны имеют идентичные веса и пороги:\n",
    "# − 𝑤 = [0.5, 0.5, 0.5]\n",
    "# − 𝑏 = 0\n",
    "\n"
   ]
  },
  {
   "cell_type": "markdown",
   "id": "e56b47ac",
   "metadata": {},
   "source": [
    "# 1.1.2(2)"
   ]
  },
  {
   "cell_type": "code",
   "execution_count": 3,
   "id": "9ef77bfa",
   "metadata": {},
   "outputs": [
    {
     "name": "stdout",
     "output_type": "stream",
     "text": [
      "Преобразованные входные данные:\n",
      "0.9525741268224334\n",
      "(0.8788956696366197, 0.8788956696366197)\n"
     ]
    }
   ],
   "source": [
    "def sigmoid(x):\n",
    "    return 1 / (1 + np.exp(-x))\n",
    "class Neuron:\n",
    "    def __init__(self, weights, bias):\n",
    "        self.weights = weights\n",
    "        self.bias = bias\n",
    "    def feedforward(self, inputs):\n",
    "        total = np.dot(self.weights, inputs) + self.bias\n",
    "        return sigmoid(total)\n",
    "\n",
    "weights = np.array([1, 0])\n",
    "bias = 1\n",
    "n = Neuron(weights, bias)\n",
    "x = np.array([2, 3])\n",
    "print(f'Преобразованные входные данные:\\n'\n",
    "      f'{n.feedforward(x)}')\n",
    "\n",
    "class OurNeuralNetwork:\n",
    "    def __init__(self):\n",
    "        weights = np.array([0, 1])\n",
    "        bias = 1\n",
    "        #neuron\n",
    "        self.h1 = Neuron(weights, bias)\n",
    "        self.h2 = Neuron(weights, bias)\n",
    "        self.o1 = Neuron(weights, bias)\n",
    "        self.o2 = Neuron(weights, bias)\n",
    "    def feedforward(self, x):\n",
    "        out_h1 = self.h1.feedforward(x)\n",
    "        out_h2 = self.h2.feedforward(x)\n",
    "        out_o1 = self.o1.feedforward(np.array([out_h1, out_h2]))\n",
    "        out_o2 = self.o2.feedforward(np.array([out_h1, out_h2]))\n",
    "        return out_o1, out_o2\n",
    "network = OurNeuralNetwork()\n",
    "x = np.array([2, 3])\n",
    "print(network.feedforward(x))\n",
    "\n",
    "\n"
   ]
  },
  {
   "cell_type": "markdown",
   "id": "b9ad3cdc",
   "metadata": {},
   "source": [
    "# 1.1.2 ReLu"
   ]
  },
  {
   "cell_type": "code",
   "execution_count": 4,
   "id": "230e729f",
   "metadata": {},
   "outputs": [
    {
     "name": "stdout",
     "output_type": "stream",
     "text": [
      "Преобразованные входные данные:\n",
      "3\n",
      "(5, 5)\n"
     ]
    }
   ],
   "source": [
    "import numpy as np\n",
    "# Данные нейросети:\n",
    "# − два входа (𝑥1, 𝑥2);\n",
    "# − два нейрона в скрытых слоях (ℎ1, ℎ2);\n",
    "# − два выхода (𝑜1, 𝑜2).\n",
    "# Нейроны имеют идентичные веса и пороги:\n",
    "# − 𝑤 = [1, 0];\n",
    "# − 𝑏 = 1\n",
    "def sigmoid(x):\n",
    "    return max(0, x)\n",
    "class Neuron:\n",
    "    def __init__(self, weights, bias):\n",
    "        self.weights = weights\n",
    "        self.bias = bias\n",
    "    def feedforward(self, inputs):\n",
    "        total = np.dot(self.weights, inputs) + self.bias\n",
    "        return sigmoid(total)\n",
    "\n",
    "weights = np.array([1, 0])\n",
    "bias = 1\n",
    "n = Neuron(weights, bias)\n",
    "x = np.array([2, 3])\n",
    "print(f'Преобразованные входные данные:\\n'\n",
    "      f'{n.feedforward(x)}')\n",
    "\n",
    "class OurNeuralNetwork:\n",
    "    def __init__(self):\n",
    "        weights = np.array([0, 1])\n",
    "        bias = 1\n",
    "        #neuron\n",
    "        self.h1 = Neuron(weights, bias)\n",
    "        self.h2 = Neuron(weights, bias)\n",
    "        self.o1 = Neuron(weights, bias)\n",
    "        self.o2 = Neuron(weights, bias)\n",
    "    def feedforward(self, x):\n",
    "        out_h1 = self.h1.feedforward(x)\n",
    "        out_h2 = self.h2.feedforward(x)\n",
    "        out_o1 = self.o1.feedforward(np.array([out_h1, out_h2]))\n",
    "        out_o2 = self.o2.feedforward(np.array([out_h1, out_h2]))\n",
    "        return out_o1, out_o2\n",
    "network = OurNeuralNetwork()\n",
    "x = np.array([2, 3])\n",
    "print(network.feedforward(x))\n",
    "\n",
    "\n",
    "\n"
   ]
  },
  {
   "cell_type": "markdown",
   "id": "fcbd0613",
   "metadata": {},
   "source": [
    "# 1.1.2 tanh"
   ]
  },
  {
   "cell_type": "code",
   "execution_count": null,
   "id": "16450153",
   "metadata": {},
   "outputs": [],
   "source": [
    "import numpy as np\n",
    "# Данные нейросети:\n",
    "# − два входа (𝑥1, 𝑥2);\n",
    "# − два нейрона в скрытых слоях (ℎ1, ℎ2);\n",
    "# − два выхода (𝑜1, 𝑜2).\n",
    "# Нейроны имеют идентичные веса и пороги:\n",
    "# − 𝑤 = [1, 0];\n",
    "# − 𝑏 = 1\n",
    "def sigmoid(x):\n",
    "    return np.tanh(x)\n",
    "class Neuron:\n",
    "    def __init__(self, weights, bias):\n",
    "        self.weights = weights\n",
    "        self.bias = bias\n",
    "    def feedforward(self, inputs):\n",
    "        total = np.dot(self.weights, inputs) + self.bias\n",
    "        return sigmoid(total)\n",
    "\n",
    "weights = np.array([1, 0])\n",
    "bias = 1\n",
    "n = Neuron(weights, bias)\n",
    "x = np.array([2, 3])\n",
    "print(f'Преобразованные входные данные:\\n'\n",
    "      f'{n.feedforward(x)}')\n",
    "\n",
    "class OurNeuralNetwork:\n",
    "    def __init__(self):\n",
    "        weights = np.array([0, 1])\n",
    "        bias = 1\n",
    "        #neuron\n",
    "        self.h1 = Neuron(weights, bias)\n",
    "        self.h2 = Neuron(weights, bias)\n",
    "        self.o1 = Neuron(weights, bias)\n",
    "        self.o2 = Neuron(weights, bias)\n",
    "    def feedforward(self, x):\n",
    "        out_h1 = self.h1.feedforward(x)\n",
    "        out_h2 = self.h2.feedforward(x)\n",
    "        out_o1 = self.o1.feedforward(np.array([out_h1, out_h2]))\n",
    "        out_o2 = self.o2.feedforward(np.array([out_h1, out_h2]))\n",
    "        return out_o1, out_o2\n",
    "network = OurNeuralNetwork()\n",
    "x = np.array([2, 3])\n",
    "print(network.feedforward(x))"
   ]
  },
  {
   "cell_type": "markdown",
   "id": "b7887e57",
   "metadata": {},
   "source": [
    "# 1.2"
   ]
  },
  {
   "cell_type": "code",
   "execution_count": 5,
   "id": "fdbfc122",
   "metadata": {},
   "outputs": [
    {
     "name": "stdout",
     "output_type": "stream",
     "text": [
      "Data Sizes: (150, 4) (150,)\n",
      "Data Sizes: (178, 13) (178,)\n",
      "Train/Test Sizes:  (142, 13) (36, 13) (142,) (36,)\n",
      "[2 0 2 2 2 0 2 2 0 0 2 2 0 0 2]\n",
      "[1 0 1 2 2 0 1 1 1 0 1 1 0 0 2]\n",
      "Test Accuracy : 0.528\n",
      "Training Accuracy : 0.500\n",
      "Loss:  log_loss\n",
      "Number of Coefs:  2\n",
      "Number of Intercepts:  2\n",
      "Number of Iterations for Which Estimator Ran:  19\n",
      "Name of Output Layer Activation Function:  softmax\n"
     ]
    },
    {
     "data": {
      "image/png": "[encoded data removed]",
      "text/plain": [
       "<Figure size 360x360 with 2 Axes>"
      ]
     },
     "metadata": {
      "needs_background": "light"
     },
     "output_type": "display_data"
    }
   ],
   "source": [
    "import sklearn\n",
    "import numpy as np\n",
    "import pandas as pd\n",
    "import matplotlib.pyplot as plt\n",
    "from sklearn.datasets import load_iris, load_wine\n",
    "\n",
    "iris = load_iris()\n",
    "X_iris, Y_iris = iris.data, iris.target\n",
    "print('Data Sizes:', X_iris.shape, Y_iris.shape)\n",
    "\n",
    "wine = load_wine()\n",
    "X_wine, Y_wine = wine.data, wine.target\n",
    "print('Data Sizes:', X_wine.shape, Y_wine.shape)\n",
    "\n",
    "from sklearn.model_selection import train_test_split\n",
    "X_train, X_test, Y_train, Y_test = train_test_split(X_wine, Y_wine, train_size=0.80, test_size=0.20, stratify=Y_wine, random_state=123)\n",
    "print('Train/Test Sizes: ', X_train.shape, X_test.shape, Y_train.shape, Y_test.shape)\n",
    "\n",
    "from sklearn.neural_network import MLPClassifier\n",
    "mlp_classifier = MLPClassifier(random_state=123)\n",
    "mlp_classifier.fit(X_train, Y_train)\n",
    "\n",
    "Y_preds = mlp_classifier.predict(X_test)\n",
    "print(Y_preds[:15])\n",
    "print(Y_test[:15])\n",
    "print('Test Accuracy : %.3f'%mlp_classifier.score(X_test, Y_test))\n",
    "print('Training Accuracy : %.3f'%mlp_classifier.score(X_train, Y_train))\n",
    "\n",
    "from sklearn.metrics import confusion_matrix\n",
    "\n",
    "def plot_confusion_matrix(Y_test, Y_preds):\n",
    "    conf_mat = confusion_matrix(Y_test, Y_preds)\n",
    "    fig = plt.figure(figsize=(5,5))\n",
    "    plt.matshow(conf_mat, cmap = plt.cm.Blues, fignum=1)\n",
    "    plt.yticks(range(3), range(3))\n",
    "    plt.xticks(range(3), range(3))\n",
    "    plt.colorbar()\n",
    "    for i in range(3):\n",
    "        for j in range(3):\n",
    "            plt.text(i-0.2, j+0.1, str(conf_mat[i, j]), color='tab:red')\n",
    "plot_confusion_matrix(Y_test, mlp_classifier.predict(X_test))\n",
    "\n",
    "\n",
    "print('Loss: ', mlp_classifier.loss)\n",
    "print('Number of Coefs: ', len(mlp_classifier.coefs_))\n",
    "print('Number of Intercepts: ', len(mlp_classifier.intercepts_))\n",
    "print('Number of Iterations for Which Estimator Ran: ', mlp_classifier.n_iter_)\n",
    "print('Name of Output Layer Activation Function: ', mlp_classifier.out_activation_)"
   ]
  },
  {
   "cell_type": "markdown",
   "id": "83799492",
   "metadata": {},
   "source": [
    "# 1.2(1)"
   ]
  },
  {
   "cell_type": "code",
   "execution_count": 6,
   "id": "bd8ee6d6",
   "metadata": {},
   "outputs": [
    {
     "name": "stdout",
     "output_type": "stream",
     "text": [
      "Data Sizes: (150, 4) (150,)\n",
      "Data Sizes: (178, 13) (178,)\n",
      "Train/Test Sizes:  (120, 4) (30, 4) (120,) (30,)\n",
      "[ 1.45962735  1.8143394   1.94966268  1.13466698 -0.12784248  1.53396682\n",
      "  1.20542449 -0.06839022 -0.0332407   1.25863413]\n",
      "[1 2 2 1 0 2 1 0 0 1]\n",
      "Test R^2 Score: 0.933\n",
      "Training R^2 Score: 0.928\n",
      "Loss:  0.02293682943536234\n",
      "Number of Coefs:  2\n",
      "Weights:  [(4, 100), (100, 1)]\n",
      "Number of Intercepts:  2\n",
      "Number of Iterations for Which Estimator Ran:  69\n",
      "Name of Output Layer Activation Function:  identity\n"
     ]
    }
   ],
   "source": [
    "import sklearn\n",
    "import numpy as np\n",
    "import pandas as pd\n",
    "import matplotlib.pyplot as plt\n",
    "from sklearn.datasets import load_iris, load_wine\n",
    "\n",
    "iris = load_iris()\n",
    "X_iris, Y_iris = iris.data, iris.target\n",
    "print('Data Sizes:', X_iris.shape, Y_iris.shape)\n",
    "\n",
    "wine = load_wine()\n",
    "X_wine, Y_wine = wine.data, wine.target\n",
    "print('Data Sizes:', X_wine.shape, Y_wine.shape)\n",
    "\n",
    "from sklearn.model_selection import train_test_split\n",
    "X_train, X_test, Y_train, Y_test = train_test_split(X_iris, Y_iris, train_size=0.80, test_size=0.20, random_state=123)\n",
    "print('Train/Test Sizes: ', X_train.shape, X_test.shape, Y_train.shape, Y_test.shape)\n",
    "\n",
    "from sklearn.neural_network import MLPRegressor\n",
    "\n",
    "mlp_regressor = MLPRegressor(random_state=123)\n",
    "mlp_regressor.fit(X_train, Y_train)\n",
    "\n",
    "Y_preds = mlp_regressor.predict(X_test)\n",
    "\n",
    "print(Y_preds[:10])\n",
    "print(Y_test[:10])\n",
    "# Метод Score оценивает точность моделей классификации\n",
    "print('Test R^2 Score: %.3f'%mlp_regressor.score(X_test, Y_test))\n",
    "print('Training R^2 Score: %.3f'%mlp_regressor.score(X_train, Y_train))\n",
    "\n",
    "print('Loss: ', mlp_regressor.loss_)\n",
    "print('Number of Coefs: ', len(mlp_regressor.coefs_))\n",
    "a = [weights.shape for weights in mlp_regressor.coefs_]\n",
    "print('Weights: ', a)\n",
    "print('Number of Intercepts: ', len(mlp_regressor.intercepts_))\n",
    "print('Number of Iterations for Which Estimator Ran: ', mlp_regressor.n_iter_)\n",
    "print('Name of Output Layer Activation Function: ', mlp_regressor.out_activation_)\n"
   ]
  },
  {
   "cell_type": "code",
   "execution_count": null,
   "id": "d239c77b",
   "metadata": {},
   "outputs": [],
   "source": []
  }
 ],
 "metadata": {
  "kernelspec": {
   "display_name": "Python 3 (ipykernel)",
   "language": "python",
   "name": "python3"
  },
  "language_info": {
   "codemirror_mode": {
    "name": "ipython",
    "version": 3
   },
   "file_extension": ".py",
   "mimetype": "text/x-python",
   "name": "python",
   "nbconvert_exporter": "python",
   "pygments_lexer": "ipython3",
   "version": "3.9.13"
  }
 },
 "nbformat": 4,
 "nbformat_minor": 5
}
