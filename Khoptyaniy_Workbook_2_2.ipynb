{
 "cells": [
  {
   "cell_type": "markdown",
   "id": "90fa99f0",
   "metadata": {},
   "source": [
    "# WorkBook 2 "
   ]
  },
  {
   "cell_type": "markdown",
   "id": "fdf673d2",
   "metadata": {},
   "source": [
    "# Task 1.3.1"
   ]
  },
  {
   "cell_type": "code",
   "execution_count": 2,
   "id": "26ff6da2",
   "metadata": {},
   "outputs": [
    {
     "name": "stdout",
     "output_type": "stream",
     "text": [
      "[[1 0 1 0 1 0 1 0]\n",
      " [0 1 0 1 0 1 0 1]\n",
      " [1 0 1 0 1 0 1 0]\n",
      " [0 1 0 1 0 1 0 1]\n",
      " [1 0 1 0 1 0 1 0]\n",
      " [0 1 0 1 0 1 0 1]\n",
      " [1 0 1 0 1 0 1 0]\n",
      " [0 1 0 1 0 1 0 1]]\n"
     ]
    }
   ],
   "source": [
    "import numpy as np\n",
    "array = np.array([[1,0,1,0,1,0,1,0],[0,1,0,1,0,1,0,1],[1,0,1,0,1,0,1,0],[0,1,0,1,0,1,0,1],[1,0,1,0,1,0,1,0],[0,1,0,1,0,1,0,1],[1,0,1,0,1,0,1,0],[0,1,0,1,0,1,0,1]])\n",
    "print(array)"
   ]
  },
  {
   "cell_type": "markdown",
   "id": "e783fa23",
   "metadata": {},
   "source": [
    "# Task 1.3.2 "
   ]
  },
  {
   "cell_type": "code",
   "execution_count": 9,
   "id": "dfdd1b66",
   "metadata": {},
   "outputs": [
    {
     "name": "stdout",
     "output_type": "stream",
     "text": [
      "[[0. 1. 2. 3. 4.]\n",
      " [0. 1. 2. 3. 4.]\n",
      " [0. 1. 2. 3. 4.]\n",
      " [0. 1. 2. 3. 4.]\n",
      " [0. 1. 2. 3. 4.]]\n"
     ]
    }
   ],
   "source": [
    "import numpy as np\n",
    "array = np.zeros((5,5))\n",
    "array += np.arange(5)\n",
    "print(array)"
   ]
  },
  {
   "cell_type": "markdown",
   "id": "ca15fc27",
   "metadata": {},
   "source": [
    "# Task 1.3.3"
   ]
  },
  {
   "cell_type": "code",
   "execution_count": 15,
   "id": "abefa429",
   "metadata": {},
   "outputs": [
    {
     "name": "stdout",
     "output_type": "stream",
     "text": [
      "[[[733560 413664 367875]\n",
      "  [582557 651984 371950]\n",
      "  [329905 283022 152104]]\n",
      "\n",
      " [[ 75622 578628 899761]\n",
      "  [   844  86566 484859]\n",
      "  [313917  34122  86613]]\n",
      "\n",
      " [[654785 649811 879716]\n",
      "  [976507 954166 605885]\n",
      "  [870048 403236 944348]]]\n"
     ]
    }
   ],
   "source": [
    "import numpy as np\n",
    "array = np.random.randint(1000000,size=(3,3,3))\n",
    "print(array)\n"
   ]
  },
  {
   "cell_type": "markdown",
   "id": "8cdc5213",
   "metadata": {},
   "source": [
    "# Task 1.3.4"
   ]
  },
  {
   "cell_type": "code",
   "execution_count": 16,
   "id": "6393b357",
   "metadata": {},
   "outputs": [
    {
     "name": "stdout",
     "output_type": "stream",
     "text": [
      "[[1. 1. 1. 1. 1. 1. 1. 1. 1. 1.]\n",
      " [1. 0. 0. 0. 0. 0. 0. 0. 0. 1.]\n",
      " [1. 0. 0. 0. 0. 0. 0. 0. 0. 1.]\n",
      " [1. 0. 0. 0. 0. 0. 0. 0. 0. 1.]\n",
      " [1. 0. 0. 0. 0. 0. 0. 0. 0. 1.]\n",
      " [1. 0. 0. 0. 0. 0. 0. 0. 0. 1.]\n",
      " [1. 0. 0. 0. 0. 0. 0. 0. 0. 1.]\n",
      " [1. 0. 0. 0. 0. 0. 0. 0. 0. 1.]\n",
      " [1. 0. 0. 0. 0. 0. 0. 0. 0. 1.]\n",
      " [1. 1. 1. 1. 1. 1. 1. 1. 1. 1.]]\n"
     ]
    }
   ],
   "source": [
    "import numpy as np\n",
    "array = np.ones((10,10))\n",
    "array[1:-1,1:-1] = 0\n",
    "print(array)"
   ]
  },
  {
   "cell_type": "markdown",
   "id": "5d8f457b",
   "metadata": {},
   "source": [
    "# Task 1.3.5"
   ]
  },
  {
   "cell_type": "code",
   "execution_count": 19,
   "id": "6736a4ab",
   "metadata": {},
   "outputs": [
    {
     "name": "stdout",
     "output_type": "stream",
     "text": [
      "[ 4  7  8 12 27 43 79 84 86 97]\n"
     ]
    }
   ],
   "source": [
    "import numpy as np\n",
    " array = np.random.randint(100,size=(10))\n",
    "print(np.sort(array))"
   ]
  },
  {
   "cell_type": "markdown",
   "id": "1abc07cd",
   "metadata": {},
   "source": [
    "# Task 1.3.6"
   ]
  },
  {
   "cell_type": "code",
   "execution_count": 23,
   "id": "8891974b",
   "metadata": {},
   "outputs": [
    {
     "name": "stdout",
     "output_type": "stream",
     "text": [
      "(10, 5)\n",
      "10\n"
     ]
    }
   ],
   "source": [
    "import numpy as np\n",
    "array = np.random.randint(100,size=(10,5))\n",
    "print(np.shape(array))\n",
    "print(len(array))\n"
   ]
  },
  {
   "cell_type": "markdown",
   "id": "8e120db9",
   "metadata": {},
   "source": [
    "# Task 2.3.1"
   ]
  },
  {
   "cell_type": "code",
   "execution_count": 2,
   "id": "38d9d1a2",
   "metadata": {
    "scrolled": false
   },
   "outputs": [
    {
     "name": "stdout",
     "output_type": "stream",
     "text": [
      "1.4142135623730951\n"
     ]
    }
   ],
   "source": [
    "import numpy as np\n",
    "import pandas as pd\n",
    "x = pd.Series([1, 4, 6])\n",
    "y = pd.Series([1, 3, 5])\n",
    "print(np.linalg.norm(x-y))"
   ]
  },
  {
   "cell_type": "markdown",
   "id": "d0b9fe18",
   "metadata": {},
   "source": [
    "# Task 2.3.2"
   ]
  },
  {
   "cell_type": "code",
   "execution_count": 14,
   "id": "a6e74664",
   "metadata": {
    "collapsed": true
   },
   "outputs": [
    {
     "data": {
      "text/html": [
       "<div>\n",
       "<style scoped>\n",
       "    .dataframe tbody tr th:only-of-type {\n",
       "        vertical-align: middle;\n",
       "    }\n",
       "\n",
       "    .dataframe tbody tr th {\n",
       "        vertical-align: top;\n",
       "    }\n",
       "\n",
       "    .dataframe thead th {\n",
       "        text-align: right;\n",
       "    }\n",
       "</style>\n",
       "<table border=\"1\" class=\"dataframe\">\n",
       "  <thead>\n",
       "    <tr style=\"text-align: right;\">\n",
       "      <th></th>\n",
       "      <th>1</th>\n",
       "      <th>2</th>\n",
       "      <th>3</th>\n",
       "      <th>4</th>\n",
       "      <th>5</th>\n",
       "      <th>6</th>\n",
       "      <th>7</th>\n",
       "      <th>8</th>\n",
       "      <th>9</th>\n",
       "      <th>10</th>\n",
       "      <th>11</th>\n",
       "      <th>12</th>\n",
       "      <th>13</th>\n",
       "      <th>14</th>\n",
       "      <th>15</th>\n",
       "      <th>16</th>\n",
       "      <th>salary</th>\n",
       "    </tr>\n",
       "  </thead>\n",
       "  <tbody>\n",
       "    <tr>\n",
       "      <th>0</th>\n",
       "      <td>0.271</td>\n",
       "      <td>0.328</td>\n",
       "      <td>74</td>\n",
       "      <td>161</td>\n",
       "      <td>22</td>\n",
       "      <td>6</td>\n",
       "      <td>12</td>\n",
       "      <td>58</td>\n",
       "      <td>49</td>\n",
       "      <td>133</td>\n",
       "      <td>23</td>\n",
       "      <td>17</td>\n",
       "      <td>1</td>\n",
       "      <td>1</td>\n",
       "      <td>0</td>\n",
       "      <td>0</td>\n",
       "      <td>109</td>\n",
       "    </tr>\n",
       "    <tr>\n",
       "      <th>1</th>\n",
       "      <td>0.264</td>\n",
       "      <td>0.318</td>\n",
       "      <td>24</td>\n",
       "      <td>48</td>\n",
       "      <td>7</td>\n",
       "      <td>0</td>\n",
       "      <td>1</td>\n",
       "      <td>22</td>\n",
       "      <td>15</td>\n",
       "      <td>18</td>\n",
       "      <td>0</td>\n",
       "      <td>7</td>\n",
       "      <td>0</td>\n",
       "      <td>0</td>\n",
       "      <td>0</td>\n",
       "      <td>0</td>\n",
       "      <td>160</td>\n",
       "    </tr>\n",
       "    <tr>\n",
       "      <th>2</th>\n",
       "      <td>0.251</td>\n",
       "      <td>0.338</td>\n",
       "      <td>101</td>\n",
       "      <td>141</td>\n",
       "      <td>35</td>\n",
       "      <td>3</td>\n",
       "      <td>32</td>\n",
       "      <td>105</td>\n",
       "      <td>71</td>\n",
       "      <td>104</td>\n",
       "      <td>34</td>\n",
       "      <td>6</td>\n",
       "      <td>0</td>\n",
       "      <td>0</td>\n",
       "      <td>1</td>\n",
       "      <td>0</td>\n",
       "      <td>2700</td>\n",
       "    </tr>\n",
       "    <tr>\n",
       "      <th>3</th>\n",
       "      <td>0.224</td>\n",
       "      <td>0.274</td>\n",
       "      <td>28</td>\n",
       "      <td>94</td>\n",
       "      <td>21</td>\n",
       "      <td>1</td>\n",
       "      <td>1</td>\n",
       "      <td>44</td>\n",
       "      <td>27</td>\n",
       "      <td>54</td>\n",
       "      <td>2</td>\n",
       "      <td>7</td>\n",
       "      <td>1</td>\n",
       "      <td>1</td>\n",
       "      <td>0</td>\n",
       "      <td>0</td>\n",
       "      <td>550</td>\n",
       "    </tr>\n",
       "    <tr>\n",
       "      <th>4</th>\n",
       "      <td>0.206</td>\n",
       "      <td>0.262</td>\n",
       "      <td>14</td>\n",
       "      <td>51</td>\n",
       "      <td>18</td>\n",
       "      <td>1</td>\n",
       "      <td>1</td>\n",
       "      <td>28</td>\n",
       "      <td>17</td>\n",
       "      <td>26</td>\n",
       "      <td>0</td>\n",
       "      <td>3</td>\n",
       "      <td>1</td>\n",
       "      <td>1</td>\n",
       "      <td>0</td>\n",
       "      <td>0</td>\n",
       "      <td>300</td>\n",
       "    </tr>\n",
       "    <tr>\n",
       "      <th>...</th>\n",
       "      <td>...</td>\n",
       "      <td>...</td>\n",
       "      <td>...</td>\n",
       "      <td>...</td>\n",
       "      <td>...</td>\n",
       "      <td>...</td>\n",
       "      <td>...</td>\n",
       "      <td>...</td>\n",
       "      <td>...</td>\n",
       "      <td>...</td>\n",
       "      <td>...</td>\n",
       "      <td>...</td>\n",
       "      <td>...</td>\n",
       "      <td>...</td>\n",
       "      <td>...</td>\n",
       "      <td>...</td>\n",
       "      <td>...</td>\n",
       "    </tr>\n",
       "    <tr>\n",
       "      <th>95</th>\n",
       "      <td>0.263</td>\n",
       "      <td>0.373</td>\n",
       "      <td>57</td>\n",
       "      <td>127</td>\n",
       "      <td>17</td>\n",
       "      <td>2</td>\n",
       "      <td>16</td>\n",
       "      <td>70</td>\n",
       "      <td>84</td>\n",
       "      <td>108</td>\n",
       "      <td>0</td>\n",
       "      <td>11</td>\n",
       "      <td>0</td>\n",
       "      <td>0</td>\n",
       "      <td>1</td>\n",
       "      <td>0</td>\n",
       "      <td>1200</td>\n",
       "    </tr>\n",
       "    <tr>\n",
       "      <th>96</th>\n",
       "      <td>0.248</td>\n",
       "      <td>0.286</td>\n",
       "      <td>24</td>\n",
       "      <td>56</td>\n",
       "      <td>5</td>\n",
       "      <td>2</td>\n",
       "      <td>2</td>\n",
       "      <td>13</td>\n",
       "      <td>12</td>\n",
       "      <td>35</td>\n",
       "      <td>2</td>\n",
       "      <td>11</td>\n",
       "      <td>1</td>\n",
       "      <td>1</td>\n",
       "      <td>0</td>\n",
       "      <td>0</td>\n",
       "      <td>350</td>\n",
       "    </tr>\n",
       "    <tr>\n",
       "      <th>97</th>\n",
       "      <td>0.229</td>\n",
       "      <td>0.303</td>\n",
       "      <td>54</td>\n",
       "      <td>105</td>\n",
       "      <td>24</td>\n",
       "      <td>1</td>\n",
       "      <td>16</td>\n",
       "      <td>70</td>\n",
       "      <td>49</td>\n",
       "      <td>72</td>\n",
       "      <td>1</td>\n",
       "      <td>3</td>\n",
       "      <td>1</td>\n",
       "      <td>0</td>\n",
       "      <td>0</td>\n",
       "      <td>0</td>\n",
       "      <td>2850</td>\n",
       "    </tr>\n",
       "    <tr>\n",
       "      <th>98</th>\n",
       "      <td>0.267</td>\n",
       "      <td>0.296</td>\n",
       "      <td>60</td>\n",
       "      <td>155</td>\n",
       "      <td>22</td>\n",
       "      <td>3</td>\n",
       "      <td>17</td>\n",
       "      <td>87</td>\n",
       "      <td>23</td>\n",
       "      <td>114</td>\n",
       "      <td>8</td>\n",
       "      <td>14</td>\n",
       "      <td>0</td>\n",
       "      <td>0</td>\n",
       "      <td>1</td>\n",
       "      <td>1</td>\n",
       "      <td>3300</td>\n",
       "    </tr>\n",
       "    <tr>\n",
       "      <th>99</th>\n",
       "      <td>0.281</td>\n",
       "      <td>0.351</td>\n",
       "      <td>78</td>\n",
       "      <td>159</td>\n",
       "      <td>24</td>\n",
       "      <td>6</td>\n",
       "      <td>1</td>\n",
       "      <td>50</td>\n",
       "      <td>59</td>\n",
       "      <td>40</td>\n",
       "      <td>25</td>\n",
       "      <td>18</td>\n",
       "      <td>0</td>\n",
       "      <td>0</td>\n",
       "      <td>0</td>\n",
       "      <td>0</td>\n",
       "      <td>360</td>\n",
       "    </tr>\n",
       "  </tbody>\n",
       "</table>\n",
       "<p>100 rows × 17 columns</p>\n",
       "</div>"
      ],
      "text/plain": [
       "        1      2    3    4   5  6   7    8   9   10  11  12  13  14  15  16  \\\n",
       "0   0.271  0.328   74  161  22  6  12   58  49  133  23  17   1   1   0   0   \n",
       "1   0.264  0.318   24   48   7  0   1   22  15   18   0   7   0   0   0   0   \n",
       "2   0.251  0.338  101  141  35  3  32  105  71  104  34   6   0   0   1   0   \n",
       "3   0.224  0.274   28   94  21  1   1   44  27   54   2   7   1   1   0   0   \n",
       "4   0.206  0.262   14   51  18  1   1   28  17   26   0   3   1   1   0   0   \n",
       "..    ...    ...  ...  ...  .. ..  ..  ...  ..  ...  ..  ..  ..  ..  ..  ..   \n",
       "95  0.263  0.373   57  127  17  2  16   70  84  108   0  11   0   0   1   0   \n",
       "96  0.248  0.286   24   56   5  2   2   13  12   35   2  11   1   1   0   0   \n",
       "97  0.229  0.303   54  105  24  1  16   70  49   72   1   3   1   0   0   0   \n",
       "98  0.267  0.296   60  155  22  3  17   87  23  114   8  14   0   0   1   1   \n",
       "99  0.281  0.351   78  159  24  6   1   50  59   40  25  18   0   0   0   0   \n",
       "\n",
       "    salary  \n",
       "0      109  \n",
       "1      160  \n",
       "2     2700  \n",
       "3      550  \n",
       "4      300  \n",
       "..     ...  \n",
       "95    1200  \n",
       "96     350  \n",
       "97    2850  \n",
       "98    3300  \n",
       "99     360  \n",
       "\n",
       "[100 rows x 17 columns]"
      ]
     },
     "execution_count": 14,
     "metadata": {},
     "output_type": "execute_result"
    }
   ],
   "source": [
    "import pandas as pd\n",
    "url = 'https://raw.githubusercontent.com/akmand/datasets/main/baseball.csv'\n",
    "dataframe = pd.read_csv(url)\n",
    "dataframe.head(100)"
   ]
  },
  {
   "cell_type": "markdown",
   "id": "3aadee09",
   "metadata": {},
   "source": [
    "# Task 2.3.3"
   ]
  },
  {
   "cell_type": "code",
   "execution_count": 21,
   "id": "45564e8f",
   "metadata": {
    "collapsed": true
   },
   "outputs": [
    {
     "data": {
      "text/html": [
       "<div>\n",
       "<style scoped>\n",
       "    .dataframe tbody tr th:only-of-type {\n",
       "        vertical-align: middle;\n",
       "    }\n",
       "\n",
       "    .dataframe tbody tr th {\n",
       "        vertical-align: top;\n",
       "    }\n",
       "\n",
       "    .dataframe thead th {\n",
       "        text-align: right;\n",
       "    }\n",
       "</style>\n",
       "<table border=\"1\" class=\"dataframe\">\n",
       "  <thead>\n",
       "    <tr style=\"text-align: right;\">\n",
       "      <th></th>\n",
       "      <th>1</th>\n",
       "      <th>2</th>\n",
       "      <th>3</th>\n",
       "      <th>4</th>\n",
       "      <th>5</th>\n",
       "      <th>6</th>\n",
       "      <th>7</th>\n",
       "      <th>8</th>\n",
       "      <th>9</th>\n",
       "      <th>10</th>\n",
       "      <th>11</th>\n",
       "      <th>12</th>\n",
       "      <th>13</th>\n",
       "      <th>14</th>\n",
       "      <th>15</th>\n",
       "      <th>16</th>\n",
       "      <th>salary</th>\n",
       "    </tr>\n",
       "  </thead>\n",
       "  <tbody>\n",
       "  </tbody>\n",
       "</table>\n",
       "</div>"
      ],
      "text/plain": [
       "Empty DataFrame\n",
       "Columns: [1, 2, 3, 4, 5, 6, 7, 8, 9, 10, 11, 12, 13, 14, 15, 16, salary]\n",
       "Index: []"
      ]
     },
     "execution_count": 21,
     "metadata": {},
     "output_type": "execute_result"
    }
   ],
   "source": [
    "import pandas as pd\n",
    "url = 'https://raw.githubusercontent.com/akmand/datasets/main/baseball.csv'\n",
    "dataframe = pd.read_csv(url)\n",
    "dataframe.head(2)\n",
    "dataframe.tail(3)\n",
    "dataframe.shape\n",
    "dataframe.describe()\n",
    "dataframe.iloc[1:4]\n",
    "dataframe[dataframe['2'] == '2'].head(2)"
   ]
  },
  {
   "cell_type": "markdown",
   "id": "fbfa09ee",
   "metadata": {},
   "source": [
    "# Task 3.3.2"
   ]
  },
  {
   "cell_type": "code",
   "execution_count": 23,
   "id": "714ff123",
   "metadata": {},
   "outputs": [
    {
     "name": "stdout",
     "output_type": "stream",
     "text": [
      "     sepal_length_cm  sepal_width_cm  petal_length_cm  petal_width_cm  \\\n",
      "0                5.1             3.5              1.4             0.2   \n",
      "1                4.9             3.0              1.4             0.2   \n",
      "2                4.7             3.2              1.3             0.2   \n",
      "3                4.6             3.1              1.5             0.2   \n",
      "4                5.0             3.6              1.4             0.2   \n",
      "..               ...             ...              ...             ...   \n",
      "145              6.7             3.0              5.2             2.3   \n",
      "146              6.3             2.5              5.0             1.9   \n",
      "147              6.5             3.0              5.2             2.0   \n",
      "148              6.2             3.4              5.4             2.3   \n",
      "149              5.9             3.0              5.1             1.8   \n",
      "\n",
      "       species  \n",
      "0       setosa  \n",
      "1       setosa  \n",
      "2       setosa  \n",
      "3       setosa  \n",
      "4       setosa  \n",
      "..         ...  \n",
      "145  virginica  \n",
      "146  virginica  \n",
      "147  virginica  \n",
      "148  virginica  \n",
      "149  virginica  \n",
      "\n",
      "[150 rows x 5 columns]\n"
     ]
    }
   ],
   "source": [
    "import pandas as pd\n",
    "from sklearn import preprocessing\n",
    "url = 'https://raw.githubusercontent.com/akmand/datasets/master/iris.csv'\n",
    "dataframe = pd.read_csv(url)\n",
    "print(dataframe)"
   ]
  },
  {
   "cell_type": "code",
   "execution_count": null,
   "id": "d8fecdf9",
   "metadata": {},
   "outputs": [],
   "source": []
  }
 ],
 "metadata": {
  "kernelspec": {
   "display_name": "Python 3 (ipykernel)",
   "language": "python",
   "name": "python3"
  },
  "language_info": {
   "codemirror_mode": {
    "name": "ipython",
    "version": 3
   },
   "file_extension": ".py",
   "mimetype": "text/x-python",
   "name": "python",
   "nbconvert_exporter": "python",
   "pygments_lexer": "ipython3",
   "version": "3.9.12"
  }
 },
 "nbformat": 4,
 "nbformat_minor": 5
}
